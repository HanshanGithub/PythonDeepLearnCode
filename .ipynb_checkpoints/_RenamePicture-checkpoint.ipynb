{
 "cells": [
  {
   "cell_type": "code",
   "execution_count": 87,
   "id": "df36e9a8",
   "metadata": {},
   "outputs": [],
   "source": [
    "import os\n",
    "path = r'E:\\typeeasy\\English'\n",
    "filelist = os.listdir(path)"
   ]
  },
  {
   "cell_type": "code",
   "execution_count": 88,
   "id": "c6eefacc",
   "metadata": {},
   "outputs": [
    {
     "name": "stdout",
     "output_type": "stream",
     "text": [
      "filelist:  ['QQ截图20211112234728.png', 'QQ截图20211113163348.png', 'QQ截图20211113211219.png', 'QQ截图20211113212019.png', 'QQ截图20211114154036.png', 'QQ截图20211114171958.png', 'QQ截图20211115144916.png', 'QQ截图20211119103701.png', 'QQ截图20211204194203.png', 'QQ截图20211207212024.png', 'QQ截图20211226211921.png', 'QQ截图20220102111123.png', 'QQ截图20220115160449.png', 'QQ截图20220116205513.png', 'Snipaste_2022-01-19_192723.png']\n"
     ]
    }
   ],
   "source": [
    "print('filelist: ',filelist)"
   ]
  },
  {
   "cell_type": "code",
   "execution_count": 39,
   "id": "f2909143",
   "metadata": {},
   "outputs": [
    {
     "name": "stdout",
     "output_type": "stream",
     "text": [
      "'n1's name: QQ截图20211112234728.png\n",
      "<class 'str'>\n",
      "<class 'list'>\n"
     ]
    }
   ],
   "source": [
    "n1 = filelist[0]\n",
    "print(\"'n1's name:\",n1)\n",
    "print(type(n1))\n",
    "print(type(filelist))"
   ]
  },
  {
   "cell_type": "code",
   "execution_count": 89,
   "id": "8b66c03d",
   "metadata": {},
   "outputs": [
    {
     "name": "stdout",
     "output_type": "stream",
     "text": [
      "['Snipaste_2021-11-12_23-47-28.png', 'Snipaste_2021-11-13_16-33-48.png', 'Snipaste_2021-11-13_21-12-19.png', 'Snipaste_2021-11-13_21-20-19.png', 'Snipaste_2021-11-14_15-40-36.png', 'Snipaste_2021-11-14_17-19-58.png', 'Snipaste_2021-11-15_14-49-16.png', 'Snipaste_2021-11-19_10-37-01.png', 'Snipaste_2021-12-04_19-42-03.png', 'Snipaste_2021-12-07_21-20-24.png', 'Snipaste_2021-12-26_21-19-21.png', 'Snipaste_2022-01-02_11-11-23.png', 'Snipaste_2022-01-15_16-04-49.png', 'Snipaste_2022-01-16_20-55-13.png']\n"
     ]
    }
   ],
   "source": [
    "fileName=[]\n",
    "num = []\n",
    "for name in filelist:\n",
    "    if(name.find('图') == -1):\n",
    "        break\n",
    "    num.append(index)\n",
    "    tem = name.replace('QQ截图','Snipaste_')\n",
    "    temlist = list(tem)\n",
    "    temlist.insert(13,'-')\n",
    "    temlist.insert(16,'-')\n",
    "    temlist.insert(19,'_')\n",
    "    temlist.insert(22,'-')\n",
    "    temlist.insert(25,'-')\n",
    "    temstr = ''.join(temlist)\n",
    "    fileName.append(temstr)\n",
    "print(fileName)\n"
   ]
  },
  {
   "cell_type": "code",
   "execution_count": 90,
   "id": "99b6832b",
   "metadata": {},
   "outputs": [
    {
     "name": "stdout",
     "output_type": "stream",
     "text": [
      "E:\\typeeasy\\English\\Snipaste_2021-11-12_23-47-28.png\n",
      "E:\\typeeasy\\English\\Snipaste_2021-11-13_16-33-48.png\n",
      "E:\\typeeasy\\English\\Snipaste_2021-11-13_21-12-19.png\n",
      "E:\\typeeasy\\English\\Snipaste_2021-11-13_21-20-19.png\n",
      "E:\\typeeasy\\English\\Snipaste_2021-11-14_15-40-36.png\n",
      "E:\\typeeasy\\English\\Snipaste_2021-11-14_17-19-58.png\n",
      "E:\\typeeasy\\English\\Snipaste_2021-11-15_14-49-16.png\n",
      "E:\\typeeasy\\English\\Snipaste_2021-11-19_10-37-01.png\n",
      "E:\\typeeasy\\English\\Snipaste_2021-12-04_19-42-03.png\n",
      "E:\\typeeasy\\English\\Snipaste_2021-12-07_21-20-24.png\n",
      "E:\\typeeasy\\English\\Snipaste_2021-12-26_21-19-21.png\n",
      "E:\\typeeasy\\English\\Snipaste_2022-01-02_11-11-23.png\n",
      "E:\\typeeasy\\English\\Snipaste_2022-01-15_16-04-49.png\n",
      "E:\\typeeasy\\English\\Snipaste_2022-01-16_20-55-13.png\n"
     ]
    }
   ],
   "source": [
    "for s in fileName:\n",
    "    name = os.path.join(path,s)\n",
    "    print(name)"
   ]
  },
  {
   "cell_type": "code",
   "execution_count": 83,
   "id": "0aae0237",
   "metadata": {},
   "outputs": [
    {
     "data": {
      "text/plain": [
       "[3, 3, 3, 3, 3, 3, 3, 3, 3, 3, 3, 3, 3, 3, 3, -1]"
      ]
     },
     "execution_count": 83,
     "metadata": {},
     "output_type": "execute_result"
    }
   ],
   "source": [
    "num"
   ]
  },
  {
   "cell_type": "code",
   "execution_count": 79,
   "id": "edb55e4f",
   "metadata": {},
   "outputs": [
    {
     "name": "stdout",
     "output_type": "stream",
     "text": [
      "new n1 name: E:\\typeeasy\\English\\QQ截图20220211135012.png\n",
      "new n2 name: E:\\typeeasy\\English\\Snipaste_20220211135012.png\n",
      "new n1 name: E:\\typeeasy\\English\\Snipaste_2022-02-11_13-50-12.png\n",
      "-1\n"
     ]
    }
   ],
   "source": [
    "n1 = r'E:\\typeeasy\\English\\QQ截图20220211135012.png'\n",
    "n2 = n1.replace('QQ截图','Snipaste_') \n",
    "print('new n1 name:',n1)\n",
    "print('new n2 name:',n2)\n",
    "temlist = list(n2)\n",
    "temlist.insert(33,'-')\n",
    "temlist.insert(36,'-')\n",
    "temlist.insert(39,'_')\n",
    "temlist.insert(42,'-')\n",
    "temlist.insert(45,'-')\n",
    "temstr = ''.join(temlist)\n",
    "print('new n1 name:',temstr)\n",
    "index = n2.find('图')\n",
    "print(index)"
   ]
  },
  {
   "cell_type": "code",
   "execution_count": 34,
   "id": "37413c4f",
   "metadata": {},
   "outputs": [
    {
     "name": "stdout",
     "output_type": "stream",
     "text": [
      "one-two-one-two-one\n"
     ]
    }
   ],
   "source": [
    "s = r'one two one two one'\n",
    "# print(n1)\n",
    "print(s.replace(' ', '-'))\n",
    "# one-two-one-two-one\n"
   ]
  },
  {
   "cell_type": "code",
   "execution_count": null,
   "id": "fc8ba56b",
   "metadata": {},
   "outputs": [],
   "source": [
    "import os \n",
    "def rename():\n",
    "\t#原始图片路径\n",
    "\tpath = r'C:\\Users\\FEA\\Desktop\\1st\\NG\\G\\4'\n",
    "\t#获取该路径下所有图片\n",
    "\tfilelist = os.listdir(path)\n",
    "\ta = 1\n",
    "\tfor files in filelist:\n",
    "\t\t#原始路径 \n",
    "\t\tOlddir = os.path.join(path,files)\n",
    "\t\t\n",
    "\t\t#if os.path.isdir(Olddir):\n",
    "\t\t#\tcontinue\n",
    "\t\t#将图片名切片,比如 xxx.bmp 切成xxx和.bmp\n",
    "\t\t#xxx\n",
    "\t\tfilename = os.path.splitext(files)[0]\n",
    "\t\t#.bmp\n",
    "\t\tfiletype = os.path.splitext(files)[1]\n",
    "\t\t#需要存储的路径 a 是需要定义修改的文件名\n",
    "\t\tNewdir=os.path.join(path,str(a)+filetype)\n",
    "\t\tos.rename(Olddir,Newdir)\n",
    "\t\ta += 1\n",
    "rename()\n",
    "\t\t\n"
   ]
  }
 ],
 "metadata": {
  "kernelspec": {
   "display_name": "Python 3 (ipykernel)",
   "language": "python",
   "name": "python3"
  },
  "language_info": {
   "codemirror_mode": {
    "name": "ipython",
    "version": 3
   },
   "file_extension": ".py",
   "mimetype": "text/x-python",
   "name": "python",
   "nbconvert_exporter": "python",
   "pygments_lexer": "ipython3",
   "version": "3.8.12"
  }
 },
 "nbformat": 4,
 "nbformat_minor": 5
}
