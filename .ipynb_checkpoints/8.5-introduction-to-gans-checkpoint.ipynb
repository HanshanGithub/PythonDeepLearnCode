{
 "cells": [
  {
   "cell_type": "code",
   "execution_count": 1,
   "metadata": {},
   "outputs": [
    {
     "data": {
      "text/plain": [
       "'2.6.0'"
      ]
     },
     "execution_count": 1,
     "metadata": {},
     "output_type": "execute_result"
    }
   ],
   "source": [
    "import keras\n",
    "keras.__version__"
   ]
  },
  {
   "cell_type": "markdown",
   "metadata": {},
   "source": [
    "# Introduction to generative adversarial networks\n",
    "\n",
    "This notebook contains the second code sample found in Chapter 8, Section 5 of [Deep Learning with Python](https://www.manning.com/books/deep-learning-with-python?a_aid=keras&a_bid=76564dff). Note that the original text features far more content, in particular further explanations and figures: in this notebook, you will only find source code and related comments.\n",
    "\n",
    "---\n",
    "[...]"
   ]
  },
  {
   "cell_type": "markdown",
   "metadata": {},
   "source": [
    "## A schematic GAN implementation\n",
    "\n",
    "\n",
    "In what follows, we explain how to implement a GAN in Keras, in its barest form -- since GANs are quite advanced, diving deeply into the \n",
    "technical details would be out of scope for us. Our specific implementation will be a deep convolutional GAN, or DCGAN: a GAN where the \n",
    "generator and discriminator are deep convnets. In particular, it leverages a `Conv2DTranspose` layer for image upsampling in the generator.\n",
    "\n",
    "We will train our GAN on images from CIFAR10, a dataset of 50,000 32x32 RGB images belong to 10 classes (5,000 images per class). To make \n",
    "things even easier, we will only use images belonging to the class \"frog\".\n",
    "\n",
    "Schematically, our GAN looks like this:\n",
    "\n",
    "* A `generator` network maps vectors of shape `(latent_dim,)` to images of shape `(32, 32, 3)`.\n",
    "* A `discriminator` network maps images of shape (32, 32, 3) to a binary score estimating the probability that the image is real.\n",
    "* A `gan` network chains the generator and the discriminator together: `gan(x) = discriminator(generator(x))`. Thus this `gan` network maps \n",
    "latent space vectors to the discriminator's assessment of the realism of these latent vectors as decoded by the generator.\n",
    "* We train the discriminator using examples of real and fake images along with \"real\"/\"fake\" labels, as we would train any regular image \n",
    "classification model.\n",
    "* To train the generator, we use the gradients of the generator's weights with regard to the loss of the `gan` model. This means that, at \n",
    "every step, we move the weights of the generator in a direction that will make the discriminator more likely to classify as \"real\" the \n",
    "images decoded by the generator. I.e. we train the generator to fool the discriminator."
   ]
  },
  {
   "cell_type": "markdown",
   "metadata": {},
   "source": [
    "## A bag of tricks\n",
    "\n",
    "\n",
    "Training GANs and tuning GAN implementations is notoriously difficult. There are a number of known \"tricks\" that one should keep in mind. \n",
    "Like most things in deep learning, it is more alchemy than science: these tricks are really just heuristics, not theory-backed guidelines. \n",
    "They are backed by some level of intuitive understanding of the phenomenon at hand, and they are known to work well empirically, albeit not \n",
    "necessarily in every context.\n",
    "\n",
    "Here are a few of the tricks that we leverage in our own implementation of a GAN generator and discriminator below. It is not an exhaustive \n",
    "list of GAN-related tricks; you will find many more across the GAN literature.\n",
    "\n",
    "* We use `tanh` as the last activation in the generator, instead of `sigmoid`, which would be more commonly found in other types of models.\n",
    "* We sample points from the latent space using a _normal distribution_ (Gaussian distribution), not a uniform distribution.\n",
    "* Stochasticity is good to induce robustness. Since GAN training results in a dynamic equilibrium, GANs are likely to get \"stuck\" in all sorts of ways. \n",
    "Introducing randomness during training helps prevent this. We introduce randomness in two ways: 1) we use dropout in the discriminator, 2) \n",
    "we add some random noise to the labels for the discriminator.\n",
    "* Sparse gradients can hinder GAN training. In deep learning, sparsity is often a desirable property, but not in GANs. There are two things \n",
    "that can induce gradient sparsity: 1) max pooling operations, 2) ReLU activations. Instead of max pooling, we recommend using strided \n",
    "convolutions for downsampling, and we recommend using a `LeakyReLU` layer instead of a ReLU activation. It is similar to ReLU but it \n",
    "relaxes sparsity constraints by allowing small negative activation values.\n",
    "* In generated images, it is common to see \"checkerboard artifacts\" caused by unequal coverage of the pixel space in the generator. To fix \n",
    "this, we use a kernel size that is divisible by the stride size, whenever we use a strided `Conv2DTranpose` or `Conv2D` in both the \n",
    "generator and discriminator."
   ]
  },
  {
   "cell_type": "markdown",
   "metadata": {},
   "source": [
    "## The generator\n",
    "\n",
    "\n",
    "First, we develop a `generator` model, which turns a vector (from the latent space -- during training it will sampled at random) into a \n",
    "candidate image. One of the many issues that commonly arise with GANs is that the generator gets stuck with generated images that look like \n",
    "noise. A possible solution is to use dropout on both the discriminator and generator."
   ]
  },
  {
   "cell_type": "code",
   "execution_count": 2,
   "metadata": {},
   "outputs": [
    {
     "name": "stdout",
     "output_type": "stream",
     "text": [
      "Model: \"model\"\n",
      "_________________________________________________________________\n",
      "Layer (type)                 Output Shape              Param #   \n",
      "=================================================================\n",
      "input_1 (InputLayer)         [(None, 32)]              0         \n",
      "_________________________________________________________________\n",
      "dense (Dense)                (None, 32768)             1081344   \n",
      "_________________________________________________________________\n",
      "leaky_re_lu (LeakyReLU)      (None, 32768)             0         \n",
      "_________________________________________________________________\n",
      "reshape (Reshape)            (None, 16, 16, 128)       0         \n",
      "_________________________________________________________________\n",
      "conv2d (Conv2D)              (None, 16, 16, 256)       819456    \n",
      "_________________________________________________________________\n",
      "leaky_re_lu_1 (LeakyReLU)    (None, 16, 16, 256)       0         \n",
      "_________________________________________________________________\n",
      "conv2d_transpose (Conv2DTran (None, 32, 32, 256)       1048832   \n",
      "_________________________________________________________________\n",
      "leaky_re_lu_2 (LeakyReLU)    (None, 32, 32, 256)       0         \n",
      "_________________________________________________________________\n",
      "conv2d_1 (Conv2D)            (None, 32, 32, 256)       1638656   \n",
      "_________________________________________________________________\n",
      "leaky_re_lu_3 (LeakyReLU)    (None, 32, 32, 256)       0         \n",
      "_________________________________________________________________\n",
      "conv2d_2 (Conv2D)            (None, 32, 32, 256)       1638656   \n",
      "_________________________________________________________________\n",
      "leaky_re_lu_4 (LeakyReLU)    (None, 32, 32, 256)       0         \n",
      "_________________________________________________________________\n",
      "conv2d_3 (Conv2D)            (None, 32, 32, 3)         37635     \n",
      "=================================================================\n",
      "Total params: 6,264,579\n",
      "Trainable params: 6,264,579\n",
      "Non-trainable params: 0\n",
      "_________________________________________________________________\n"
     ]
    }
   ],
   "source": [
    "import keras\n",
    "from keras import layers\n",
    "import numpy as np\n",
    "\n",
    "latent_dim = 32\n",
    "height = 32\n",
    "width = 32\n",
    "channels = 3\n",
    "\n",
    "generator_input = keras.Input(shape=(latent_dim,))\n",
    "\n",
    "# First, transform the input into a 16x16 128-channels feature map\n",
    "x = layers.Dense(128 * 16 * 16)(generator_input)\n",
    "x = layers.LeakyReLU()(x)\n",
    "x = layers.Reshape((16, 16, 128))(x)\n",
    "\n",
    "# Then, add a convolution layer\n",
    "x = layers.Conv2D(256, 5, padding='same')(x)\n",
    "x = layers.LeakyReLU()(x)\n",
    "\n",
    "# Upsample to 32x32\n",
    "x = layers.Conv2DTranspose(256, 4, strides=2, padding='same')(x)\n",
    "x = layers.LeakyReLU()(x)\n",
    "\n",
    "# Few more conv layers\n",
    "x = layers.Conv2D(256, 5, padding='same')(x)\n",
    "x = layers.LeakyReLU()(x)\n",
    "x = layers.Conv2D(256, 5, padding='same')(x)\n",
    "x = layers.LeakyReLU()(x)\n",
    "\n",
    "# Produce a 32x32 1-channel feature map\n",
    "x = layers.Conv2D(channels, 7, activation='tanh', padding='same')(x)\n",
    "generator = keras.models.Model(generator_input, x)\n",
    "generator.summary()"
   ]
  },
  {
   "cell_type": "markdown",
   "metadata": {},
   "source": [
    "## The discriminator\n",
    "\n",
    "\n",
    "Then, we develop a `discriminator` model, that takes as input a candidate image (real or synthetic) and classifies it into one of two \n",
    "classes, either \"generated image\" or \"real image that comes from the training set\"."
   ]
  },
  {
   "cell_type": "code",
   "execution_count": 3,
   "metadata": {},
   "outputs": [
    {
     "name": "stdout",
     "output_type": "stream",
     "text": [
      "Model: \"model_1\"\n",
      "_________________________________________________________________\n",
      "Layer (type)                 Output Shape              Param #   \n",
      "=================================================================\n",
      "input_2 (InputLayer)         [(None, 32, 32, 3)]       0         \n",
      "_________________________________________________________________\n",
      "conv2d_4 (Conv2D)            (None, 30, 30, 128)       3584      \n",
      "_________________________________________________________________\n",
      "leaky_re_lu_5 (LeakyReLU)    (None, 30, 30, 128)       0         \n",
      "_________________________________________________________________\n",
      "conv2d_5 (Conv2D)            (None, 14, 14, 128)       262272    \n",
      "_________________________________________________________________\n",
      "leaky_re_lu_6 (LeakyReLU)    (None, 14, 14, 128)       0         \n",
      "_________________________________________________________________\n",
      "conv2d_6 (Conv2D)            (None, 6, 6, 128)         262272    \n",
      "_________________________________________________________________\n",
      "leaky_re_lu_7 (LeakyReLU)    (None, 6, 6, 128)         0         \n",
      "_________________________________________________________________\n",
      "conv2d_7 (Conv2D)            (None, 2, 2, 128)         262272    \n",
      "_________________________________________________________________\n",
      "leaky_re_lu_8 (LeakyReLU)    (None, 2, 2, 128)         0         \n",
      "_________________________________________________________________\n",
      "flatten (Flatten)            (None, 512)               0         \n",
      "_________________________________________________________________\n",
      "dropout (Dropout)            (None, 512)               0         \n",
      "_________________________________________________________________\n",
      "dense_1 (Dense)              (None, 1)                 513       \n",
      "=================================================================\n",
      "Total params: 790,913\n",
      "Trainable params: 790,913\n",
      "Non-trainable params: 0\n",
      "_________________________________________________________________\n"
     ]
    }
   ],
   "source": [
    "import tensorflow\n",
    "discriminator_input = layers.Input(shape=(height, width, channels))\n",
    "x = layers.Conv2D(128, 3)(discriminator_input)\n",
    "x = layers.LeakyReLU()(x)\n",
    "x = layers.Conv2D(128, 4, strides=2)(x)\n",
    "x = layers.LeakyReLU()(x)\n",
    "x = layers.Conv2D(128, 4, strides=2)(x)\n",
    "x = layers.LeakyReLU()(x)\n",
    "x = layers.Conv2D(128, 4, strides=2)(x)\n",
    "x = layers.LeakyReLU()(x)\n",
    "x = layers.Flatten()(x)\n",
    "\n",
    "# One dropout layer - important trick!\n",
    "x = layers.Dropout(0.4)(x)\n",
    "\n",
    "# Classification layer\n",
    "x = layers.Dense(1, activation='sigmoid')(x)\n",
    "\n",
    "discriminator = keras.models.Model(discriminator_input, x)\n",
    "discriminator.summary()\n",
    "\n",
    "# To stabilize training, we use learning rate decay\n",
    "# and gradient clipping (by value) in the optimizer.\n",
    "discriminator_optimizer = tensorflow.keras.optimizers.RMSprop(learning_rate=0.0008, clipvalue=1.0, decay=1e-8)\n",
    "discriminator.compile(optimizer=discriminator_optimizer, loss='binary_crossentropy')"
   ]
  },
  {
   "cell_type": "markdown",
   "metadata": {},
   "source": [
    "## The adversarial network\n",
    "\n",
    "Finally, we setup the GAN, which chains the generator and the discriminator. This is the model that, when trained, will move the generator \n",
    "in a direction that improves its ability to fool the discriminator. This model turns latent space points into a classification decision, \n",
    "\"fake\" or \"real\", and it is meant to be trained with labels that are always \"these are real images\". So training `gan` will updates the \n",
    "weights of `generator` in a way that makes `discriminator` more likely to predict \"real\" when looking at fake images. Very importantly, we \n",
    "set the discriminator to be frozen during training (non-trainable): its weights will not be updated when training `gan`. If the \n",
    "discriminator weights could be updated during this process, then we would be training the discriminator to always predict \"real\", which is \n",
    "not what we want!"
   ]
  },
  {
   "cell_type": "code",
   "execution_count": 4,
   "metadata": {},
   "outputs": [],
   "source": [
    "# Set discriminator weights to non-trainable\n",
    "# (will only apply to the `gan` model)\n",
    "discriminator.trainable = False\n",
    "\n",
    "gan_input = keras.Input(shape=(latent_dim,))\n",
    "gan_output = discriminator(generator(gan_input))\n",
    "gan = keras.models.Model(gan_input, gan_output)\n",
    "\n",
    "gan_optimizer = tensorflow.keras.optimizers.RMSprop(learning_rate=0.0004, clipvalue=1.0, decay=1e-8)\n",
    "gan.compile(optimizer=gan_optimizer, loss='binary_crossentropy')"
   ]
  },
  {
   "cell_type": "markdown",
   "metadata": {},
   "source": [
    "## How to train your DCGAN\n",
    "\n",
    "Now we can start training. To recapitulate, this is schematically what the training loop looks like:\n",
    "\n",
    "```\n",
    "for each epoch:\n",
    "    * Draw random points in the latent space (random noise).\n",
    "    * Generate images with `generator` using this random noise.\n",
    "    * Mix the generated images with real ones.\n",
    "    * Train `discriminator` using these mixed images, with corresponding targets, either \"real\" (for the real images) or \"fake\" (for the generated images).\n",
    "    * Draw new random points in the latent space.\n",
    "    * Train `gan` using these random vectors, with targets that all say \"these are real images\". This will update the weights of the generator (only, since discriminator is frozen inside `gan`) to move them towards getting the discriminator to predict \"these are real images\" for generated images, i.e. this trains the generator to fool the discriminator.\n",
    "```\n",
    "\n",
    "Let's implement it:"
   ]
  },
  {
   "cell_type": "code",
   "execution_count": 5,
   "metadata": {},
   "outputs": [
    {
     "name": "stdout",
     "output_type": "stream",
     "text": [
      "discriminator loss at step 0: 0.7023249268531799\n",
      "adversarial loss at step 0: 0.6922450065612793\n",
      "discriminator loss at step 100: 0.7096104621887207\n",
      "adversarial loss at step 100: 0.6900044679641724\n",
      "discriminator loss at step 200: 0.702582836151123\n",
      "adversarial loss at step 200: 0.7730317711830139\n",
      "discriminator loss at step 300: 0.7041884660720825\n",
      "adversarial loss at step 300: 0.7135961651802063\n",
      "discriminator loss at step 400: 0.6974360942840576\n",
      "adversarial loss at step 400: 0.7419713139533997\n",
      "discriminator loss at step 500: 0.7003083229064941\n",
      "adversarial loss at step 500: 0.7509965896606445\n",
      "discriminator loss at step 600: 0.697904109954834\n",
      "adversarial loss at step 600: 0.7882441282272339\n",
      "discriminator loss at step 700: 0.6917627453804016\n",
      "adversarial loss at step 700: 0.7721525430679321\n",
      "discriminator loss at step 800: 0.6924554109573364\n",
      "adversarial loss at step 800: 0.7583423852920532\n",
      "discriminator loss at step 900: 0.6959443092346191\n",
      "adversarial loss at step 900: 0.7379308938980103\n",
      "discriminator loss at step 1000: 0.7001419067382812\n",
      "adversarial loss at step 1000: 0.7352298498153687\n",
      "discriminator loss at step 1100: 0.693100094795227\n",
      "adversarial loss at step 1100: 0.7566474676132202\n",
      "discriminator loss at step 1200: 0.6907896995544434\n",
      "adversarial loss at step 1200: 0.7452691793441772\n",
      "discriminator loss at step 1300: 0.6877056956291199\n",
      "adversarial loss at step 1300: 0.7500458359718323\n",
      "discriminator loss at step 1400: 0.6978645324707031\n",
      "adversarial loss at step 1400: 0.7751959562301636\n",
      "discriminator loss at step 1500: 0.6879339814186096\n",
      "adversarial loss at step 1500: 0.9116476774215698\n",
      "discriminator loss at step 1600: 0.6788762807846069\n",
      "adversarial loss at step 1600: 0.7767117023468018\n",
      "discriminator loss at step 1700: 0.7011693120002747\n",
      "adversarial loss at step 1700: 0.7803900837898254\n",
      "discriminator loss at step 1800: 0.6868476271629333\n",
      "adversarial loss at step 1800: 0.8378381729125977\n",
      "discriminator loss at step 1900: 0.6855334043502808\n",
      "adversarial loss at step 1900: 0.7325731515884399\n",
      "discriminator loss at step 2000: 0.6996399760246277\n",
      "adversarial loss at step 2000: 0.7201013565063477\n",
      "discriminator loss at step 2100: 0.6926357746124268\n",
      "adversarial loss at step 2100: 0.7314794659614563\n",
      "discriminator loss at step 2200: 0.6836143136024475\n",
      "adversarial loss at step 2200: 0.7351552248001099\n",
      "discriminator loss at step 2300: 0.679475724697113\n",
      "adversarial loss at step 2300: 0.7547298669815063\n",
      "discriminator loss at step 2400: 0.7559396624565125\n",
      "adversarial loss at step 2400: 0.7360149621963501\n",
      "discriminator loss at step 2500: 0.6908502578735352\n",
      "adversarial loss at step 2500: 0.763707160949707\n",
      "discriminator loss at step 2600: 0.7091598510742188\n",
      "adversarial loss at step 2600: 0.7494824528694153\n",
      "discriminator loss at step 2700: 0.7206279635429382\n",
      "adversarial loss at step 2700: 0.7421680688858032\n",
      "discriminator loss at step 2800: 0.6914723515510559\n",
      "adversarial loss at step 2800: 0.7611892819404602\n",
      "discriminator loss at step 2900: 0.6989120244979858\n",
      "adversarial loss at step 2900: 0.7398602366447449\n",
      "discriminator loss at step 3000: 0.7008599042892456\n",
      "adversarial loss at step 3000: 0.7236029505729675\n",
      "discriminator loss at step 3100: 0.6974032521247864\n",
      "adversarial loss at step 3100: 0.740863025188446\n",
      "discriminator loss at step 3200: 0.6967480182647705\n",
      "adversarial loss at step 3200: 0.8499126434326172\n",
      "discriminator loss at step 3300: 0.6913274526596069\n",
      "adversarial loss at step 3300: 0.7180749177932739\n",
      "discriminator loss at step 3400: 0.7006866335868835\n",
      "adversarial loss at step 3400: 0.7461684942245483\n",
      "discriminator loss at step 3500: 0.6803014278411865\n",
      "adversarial loss at step 3500: 0.7507823705673218\n",
      "discriminator loss at step 3600: 0.7030540704727173\n",
      "adversarial loss at step 3600: 0.7902644872665405\n",
      "discriminator loss at step 3700: 0.6883996725082397\n",
      "adversarial loss at step 3700: 0.7499547004699707\n",
      "discriminator loss at step 3800: 0.7401072978973389\n",
      "adversarial loss at step 3800: 0.7544930577278137\n",
      "discriminator loss at step 3900: 0.7136836051940918\n",
      "adversarial loss at step 3900: 0.7688055634498596\n",
      "discriminator loss at step 4000: 0.6894933581352234\n",
      "adversarial loss at step 4000: 0.802425742149353\n",
      "discriminator loss at step 4100: 0.6982954740524292\n",
      "adversarial loss at step 4100: 0.7785520553588867\n",
      "discriminator loss at step 4200: 0.69825279712677\n",
      "adversarial loss at step 4200: 0.9556702375411987\n",
      "discriminator loss at step 4300: 0.7028599977493286\n",
      "adversarial loss at step 4300: 0.7622105479240417\n",
      "discriminator loss at step 4400: 0.6932374835014343\n",
      "adversarial loss at step 4400: 0.7647928595542908\n",
      "discriminator loss at step 4500: 0.6998728513717651\n",
      "adversarial loss at step 4500: 0.7408778667449951\n",
      "discriminator loss at step 4600: 0.6942873001098633\n",
      "adversarial loss at step 4600: 0.7514476776123047\n",
      "discriminator loss at step 4700: 0.6967775225639343\n",
      "adversarial loss at step 4700: 0.7367100715637207\n",
      "discriminator loss at step 4800: 0.6968186497688293\n",
      "adversarial loss at step 4800: 0.735486626625061\n",
      "discriminator loss at step 4900: 0.682209849357605\n",
      "adversarial loss at step 4900: 0.7560874223709106\n",
      "discriminator loss at step 5000: 0.6931174397468567\n",
      "adversarial loss at step 5000: 0.7867819666862488\n",
      "discriminator loss at step 5100: 0.699103832244873\n",
      "adversarial loss at step 5100: 0.7419910430908203\n",
      "discriminator loss at step 5200: 0.6864151358604431\n",
      "adversarial loss at step 5200: 0.7472773790359497\n",
      "discriminator loss at step 5300: 0.680504322052002\n",
      "adversarial loss at step 5300: 1.1539907455444336\n",
      "discriminator loss at step 5400: 0.6830748319625854\n",
      "adversarial loss at step 5400: 0.7450685501098633\n",
      "discriminator loss at step 5500: 0.6969560384750366\n",
      "adversarial loss at step 5500: 0.7157042622566223\n",
      "discriminator loss at step 5600: 0.6939572095870972\n",
      "adversarial loss at step 5600: 0.7746971845626831\n",
      "discriminator loss at step 5700: 0.7022310495376587\n",
      "adversarial loss at step 5700: 0.7686210870742798\n",
      "discriminator loss at step 5800: 0.6952425241470337\n",
      "adversarial loss at step 5800: 0.7509198784828186\n",
      "discriminator loss at step 5900: 0.6929537057876587\n",
      "adversarial loss at step 5900: 0.7681630253791809\n",
      "discriminator loss at step 6000: 0.6961981654167175\n",
      "adversarial loss at step 6000: 0.7449347376823425\n",
      "discriminator loss at step 6100: 0.7083138823509216\n",
      "adversarial loss at step 6100: 0.7648822069168091\n",
      "discriminator loss at step 6200: 0.6935960650444031\n",
      "adversarial loss at step 6200: 0.7722980380058289\n",
      "discriminator loss at step 6300: 0.6788271069526672\n",
      "adversarial loss at step 6300: 0.7468224763870239\n",
      "discriminator loss at step 6400: 0.6891998052597046\n",
      "adversarial loss at step 6400: 0.7380553483963013\n",
      "discriminator loss at step 6500: 0.6908321976661682\n",
      "adversarial loss at step 6500: 0.7578418254852295\n",
      "discriminator loss at step 6600: 0.7207310795783997\n",
      "adversarial loss at step 6600: 0.7623754739761353\n",
      "discriminator loss at step 6700: 0.6917851567268372\n",
      "adversarial loss at step 6700: 0.7438535094261169\n",
      "discriminator loss at step 6800: 0.6999914050102234\n",
      "adversarial loss at step 6800: 0.7835466861724854\n",
      "discriminator loss at step 6900: 0.6884983777999878\n",
      "adversarial loss at step 6900: 0.7643165588378906\n",
      "discriminator loss at step 7000: 0.693330705165863\n",
      "adversarial loss at step 7000: 0.7611609697341919\n",
      "discriminator loss at step 7100: 0.6980258226394653\n",
      "adversarial loss at step 7100: 0.7834342122077942\n",
      "discriminator loss at step 7200: 0.6974111795425415\n",
      "adversarial loss at step 7200: 0.7636098265647888\n",
      "discriminator loss at step 7300: 0.7010793089866638\n",
      "adversarial loss at step 7300: 0.7431489825248718\n",
      "discriminator loss at step 7400: 0.7097988724708557\n",
      "adversarial loss at step 7400: 0.793988823890686\n",
      "discriminator loss at step 7500: 0.6809576153755188\n",
      "adversarial loss at step 7500: 0.7242695689201355\n",
      "discriminator loss at step 7600: 0.6918179988861084\n",
      "adversarial loss at step 7600: 0.7712198495864868\n",
      "discriminator loss at step 7700: 0.7089686393737793\n",
      "adversarial loss at step 7700: 0.7882758378982544\n",
      "discriminator loss at step 7800: 0.6856220364570618\n",
      "adversarial loss at step 7800: 0.7576355934143066\n",
      "discriminator loss at step 7900: 0.6731292009353638\n",
      "adversarial loss at step 7900: 0.7773224711418152\n",
      "discriminator loss at step 8000: 0.6904228329658508\n",
      "adversarial loss at step 8000: 0.7635373473167419\n"
     ]
    },
    {
     "name": "stdout",
     "output_type": "stream",
     "text": [
      "discriminator loss at step 8100: 0.6667042374610901\n",
      "adversarial loss at step 8100: 1.0049121379852295\n",
      "discriminator loss at step 8200: 0.8364473581314087\n",
      "adversarial loss at step 8200: 0.7340444326400757\n",
      "discriminator loss at step 8300: 0.6649390459060669\n",
      "adversarial loss at step 8300: 0.7950800657272339\n",
      "discriminator loss at step 8400: 0.7031821012496948\n",
      "adversarial loss at step 8400: 0.6723365783691406\n",
      "discriminator loss at step 8500: 0.654856264591217\n",
      "adversarial loss at step 8500: 0.8266143798828125\n",
      "discriminator loss at step 8600: 0.6697007417678833\n",
      "adversarial loss at step 8600: 0.8372481465339661\n",
      "discriminator loss at step 8700: 0.6570168137550354\n",
      "adversarial loss at step 8700: 0.9548771977424622\n",
      "discriminator loss at step 8800: 0.6859224438667297\n",
      "adversarial loss at step 8800: 0.8629935383796692\n",
      "discriminator loss at step 8900: 0.6951837539672852\n",
      "adversarial loss at step 8900: 0.7816306352615356\n",
      "discriminator loss at step 9000: 0.7367525100708008\n",
      "adversarial loss at step 9000: 0.8329305648803711\n",
      "discriminator loss at step 9100: 0.674735963344574\n",
      "adversarial loss at step 9100: 0.7777968645095825\n",
      "discriminator loss at step 9200: 0.6962490081787109\n",
      "adversarial loss at step 9200: 0.8602229356765747\n",
      "discriminator loss at step 9300: 0.6627609133720398\n",
      "adversarial loss at step 9300: 0.7622665166854858\n",
      "discriminator loss at step 9400: 0.7512036561965942\n",
      "adversarial loss at step 9400: 1.1732890605926514\n",
      "discriminator loss at step 9500: 0.9036315083503723\n",
      "adversarial loss at step 9500: 1.1093536615371704\n",
      "discriminator loss at step 9600: 0.6918066740036011\n",
      "adversarial loss at step 9600: 0.8174813985824585\n",
      "discriminator loss at step 9700: 0.7258334159851074\n",
      "adversarial loss at step 9700: 0.7512927055358887\n",
      "discriminator loss at step 9800: 0.6868629455566406\n",
      "adversarial loss at step 9800: 0.8625942468643188\n",
      "discriminator loss at step 9900: 0.6960448026657104\n",
      "adversarial loss at step 9900: 0.7628939747810364\n"
     ]
    }
   ],
   "source": [
    "import os\n",
    "from keras.preprocessing import image\n",
    "\n",
    "# Load CIFAR10 data\n",
    "(x_train, y_train), (_, _) = keras.datasets.cifar10.load_data()\n",
    "\n",
    "# Select frog images (class 6)\n",
    "x_train = x_train[y_train.flatten() == 6]\n",
    "\n",
    "# Normalize data\n",
    "x_train = x_train.reshape(\n",
    "    (x_train.shape[0],) + (height, width, channels)).astype('float32') / 255.\n",
    "\n",
    "iterations = 10000\n",
    "batch_size = 20\n",
    "save_dir = r'E:\\Deep learning\\pic'\n",
    "\n",
    "# Start training loop\n",
    "start = 0\n",
    "for step in range(iterations):\n",
    "    # Sample random points in the latent space\n",
    "    random_latent_vectors = np.random.normal(size=(batch_size, latent_dim))\n",
    "\n",
    "    # Decode them to fake images\n",
    "    generated_images = generator.predict(random_latent_vectors)\n",
    "\n",
    "    # Combine them with real images\n",
    "    stop = start + batch_size\n",
    "    real_images = x_train[start: stop]\n",
    "    combined_images = np.concatenate([generated_images, real_images])\n",
    "\n",
    "    # Assemble labels discriminating real from fake images\n",
    "    labels = np.concatenate([np.ones((batch_size, 1)),\n",
    "                             np.zeros((batch_size, 1))])\n",
    "    # Add random noise to the labels - important trick!\n",
    "    labels += 0.05 * np.random.random(labels.shape)\n",
    "\n",
    "    # Train the discriminator\n",
    "    d_loss = discriminator.train_on_batch(combined_images, labels)\n",
    "\n",
    "    # sample random points in the latent space\n",
    "    random_latent_vectors = np.random.normal(size=(batch_size, latent_dim))\n",
    "\n",
    "    # Assemble labels that say \"all real images\"\n",
    "    misleading_targets = np.zeros((batch_size, 1))\n",
    "\n",
    "    # Train the generator (via the gan model,\n",
    "    # where the discriminator weights are frozen)\n",
    "    a_loss = gan.train_on_batch(random_latent_vectors, misleading_targets)\n",
    "    \n",
    "    start += batch_size\n",
    "    if start > len(x_train) - batch_size:\n",
    "      start = 0\n",
    "\n",
    "    # Occasionally save / plot\n",
    "    if step % 100 == 0:\n",
    "        # Save model weights\n",
    "        gan.save_weights('gan.h5')\n",
    "\n",
    "        # Print metrics\n",
    "        print('discriminator loss at step %s: %s' % (step, d_loss))\n",
    "        print('adversarial loss at step %s: %s' % (step, a_loss))\n",
    "\n",
    "        # Save one generated image\n",
    "        img = image.array_to_img(generated_images[0] * 255., scale=False)\n",
    "        img.save(os.path.join(save_dir, 'generated_frog' + str(step) + '.png'))\n",
    "\n",
    "        # Save one real image, for comparison\n",
    "        img = image.array_to_img(real_images[0] * 255., scale=False)\n",
    "        img.save(os.path.join(save_dir, 'real_frog' + str(step) + '.png'))"
   ]
  },
  {
   "cell_type": "markdown",
   "metadata": {
    "collapsed": true
   },
   "source": [
    "Let's display a few of our fake images:"
   ]
  },
  {
   "cell_type": "code",
   "execution_count": 6,
   "metadata": {},
   "outputs": [
    {
     "data": {
      "image/png": "[encoded data removed]",
      "text/plain": [
       "<Figure size 432x288 with 1 Axes>"
      ]
     },
     "metadata": {
      "needs_background": "light"
     },
     "output_type": "display_data"
    },
    {
     "data": {
      "image/png": "[encoded data removed]",
      "text/plain": [
       "<Figure size 432x288 with 1 Axes>"
      ]
     },
     "metadata": {
      "needs_background": "light"
     },
     "output_type": "display_data"
    },
    {
     "data": {
      "image/png": "[encoded data removed]",
      "text/plain": [
       "<Figure size 432x288 with 1 Axes>"
      ]
     },
     "metadata": {
      "needs_background": "light"
     },
     "output_type": "display_data"
    },
    {
     "data": {
      "image/png": "[encoded data removed]",
      "text/plain": [
       "<Figure size 432x288 with 1 Axes>"
      ]
     },
     "metadata": {
      "needs_background": "light"
     },
     "output_type": "display_data"
    },
    {
     "data": {
      "image/png": "[encoded data removed]",
      "text/plain": [
       "<Figure size 432x288 with 1 Axes>"
      ]
     },
     "metadata": {
      "needs_background": "light"
     },
     "output_type": "display_data"
    },
    {
     "data": {
      "image/png": "[encoded data removed]",
      "text/plain": [
       "<Figure size 432x288 with 1 Axes>"
      ]
     },
     "metadata": {
      "needs_background": "light"
     },
     "output_type": "display_data"
    },
    {
     "data": {
      "image/png": "[encoded data removed]",
      "text/plain": [
       "<Figure size 432x288 with 1 Axes>"
      ]
     },
     "metadata": {
      "needs_background": "light"
     },
     "output_type": "display_data"
    },
    {
     "data": {
      "image/png": "[encoded data removed]",
      "text/plain": [
       "<Figure size 432x288 with 1 Axes>"
      ]
     },
     "metadata": {
      "needs_background": "light"
     },
     "output_type": "display_data"
    },
    {
     "data": {
      "image/png": "[encoded data removed]",
      "text/plain": [
       "<Figure size 432x288 with 1 Axes>"
      ]
     },
     "metadata": {
      "needs_background": "light"
     },
     "output_type": "display_data"
    },
    {
     "data": {
      "image/png": "[encoded data removed]",
      "text/plain": [
       "<Figure size 432x288 with 1 Axes>"
      ]
     },
     "metadata": {
      "needs_background": "light"
     },
     "output_type": "display_data"
    }
   ],
   "source": [
    "import matplotlib.pyplot as plt\n",
    "\n",
    "# Sample random points in the latent space\n",
    "random_latent_vectors = np.random.normal(size=(10, latent_dim))\n",
    "\n",
    "# Decode them to fake images\n",
    "generated_images = generator.predict(random_latent_vectors)\n",
    "\n",
    "for i in range(generated_images.shape[0]):\n",
    "    img = image.array_to_img(generated_images[i] * 255., scale=False)\n",
    "    plt.figure()\n",
    "    plt.imshow(img)\n",
    "    \n",
    "plt.show()"
   ]
  },
  {
   "cell_type": "markdown",
   "metadata": {},
   "source": [
    "Froggy with some pixellated artifacts."
   ]
  }
 ],
 "metadata": {
  "kernelspec": {
   "display_name": "Python 3 (ipykernel)",
   "language": "python",
   "name": "python3"
  },
  "language_info": {
   "codemirror_mode": {
    "name": "ipython",
    "version": 3
   },
   "file_extension": ".py",
   "mimetype": "text/x-python",
   "name": "python",
   "nbconvert_exporter": "python",
   "pygments_lexer": "ipython3",
   "version": "3.8.12"
  }
 },
 "nbformat": 4,
 "nbformat_minor": 2
}
